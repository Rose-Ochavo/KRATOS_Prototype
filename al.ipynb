{
 "cells": [
  {
   "cell_type": "code",
   "execution_count": 63,
   "metadata": {},
   "outputs": [],
   "source": [
    "from sklearn.cluster import KMeans\n",
    "from sklearn import metrics\n",
    "from scipy.spatial.distance import cdist\n",
    "import numpy as np\n",
    "import matplotlib.pyplot as plt\n",
    "import pandas as pd\n",
    "from kmodes.kprototypes import KPrototypes"
   ]
  },
  {
   "cell_type": "code",
   "execution_count": 64,
   "metadata": {},
   "outputs": [],
   "source": [
    "data = pd.read_csv('al.csv')\n",
    "\n",
    "data['QUANTITY'].fillna(1, inplace=True)  # Fill missing values with 0\n",
    "data = data.drop('ID', axis='columns')\n",
    "\n",
    "data = data.values\n",
    "\n",
    "# x = [4, 5, 10, 4, 3, 11, 14 , 6, 10, 12, 19, 24, 17, 16, 25, 24, 22, 21, 21]\n",
    "# y = [21, 19, 24, 17, 16, 25, 24, 22, 21, 21, 19, 24, 17, 16, 25, 24, 22, 21, 21]\n",
    "\n",
    "# plt.scatter(x, y)\n",
    "# plt.show()"
   ]
  },
  {
   "cell_type": "code",
   "execution_count": 65,
   "metadata": {},
   "outputs": [
    {
     "name": "stdout",
     "output_type": "stream",
     "text": [
      "[['T1' 'HONDA' 'PETRON OIL' 1.0 '₱225.00' '01/03/2023']\n",
      " ['T1' 'HONDA' 'TIRE SYLANT' 1.0 '₱120.00' '01/03/2023']\n",
      " ['T1' 'HONDA' 'PITO' 1.0 '₱60.00' '01/03/2023']\n",
      " ['T1' 'HONDA' 'TIRE GOMA' 1.0 '₱140.00' '01/03/2023']\n",
      " ['T1' 'HONDA' 'TIRE GOMA' 1.0 '₱150.00' '01/03/2023']\n",
      " ['T1' 'HONDA' 'HORN' 1.0 '₱100.00' '01/03/2023']\n",
      " ['T1' 'HONDA' 'ALLEN WRENCH' 1.0 '₱16.00' '01/03/2023']\n",
      " ['T1' 'HONDA' 'JRP SEAT' 1.0 '₱300.00' '01/03/2023']\n",
      " ['T1' 'HONDA' 'TIRE GOMA' 1.0 '₱150.00' '01/03/2023']\n",
      " ['T2' 'RUSI' 'SET ALLEN' 1.0 '₱550.00' '01/04/2023']]\n"
     ]
    }
   ],
   "source": [
    "print(data)"
   ]
  },
  {
   "cell_type": "code",
   "execution_count": 66,
   "metadata": {},
   "outputs": [
    {
     "ename": "ValueError",
     "evalue": "Clustering algorithm could not initialize. Consider assigning the initial clusters manually.",
     "output_type": "error",
     "traceback": [
      "\u001b[0;31m---------------------------------------------------------------------------\u001b[0m",
      "\u001b[0;31mValueError\u001b[0m                                Traceback (most recent call last)",
      "\u001b[1;32m/home/francis/Desktop/prototype/al.ipynb Cell 4\u001b[0m line \u001b[0;36m4\n\u001b[1;32m      <a href='vscode-notebook-cell:/home/francis/Desktop/prototype/al.ipynb#X12sZmlsZQ%3D%3D?line=1'>2</a>\u001b[0m \u001b[39mfor\u001b[39;00m num_clusters \u001b[39min\u001b[39;00m \u001b[39mlist\u001b[39m(\u001b[39mrange\u001b[39m(\u001b[39m1\u001b[39m,\u001b[39m14\u001b[39m)):\n\u001b[1;32m      <a href='vscode-notebook-cell:/home/francis/Desktop/prototype/al.ipynb#X12sZmlsZQ%3D%3D?line=2'>3</a>\u001b[0m     kproto \u001b[39m=\u001b[39m KPrototypes(n_clusters\u001b[39m=\u001b[39mnum_clusters, init\u001b[39m=\u001b[39m\u001b[39m'\u001b[39m\u001b[39mCao\u001b[39m\u001b[39m'\u001b[39m)\n\u001b[0;32m----> <a href='vscode-notebook-cell:/home/francis/Desktop/prototype/al.ipynb#X12sZmlsZQ%3D%3D?line=3'>4</a>\u001b[0m     kproto\u001b[39m.\u001b[39;49mfit_predict(data, categorical\u001b[39m=\u001b[39;49m[\u001b[39m0\u001b[39;49m,\u001b[39m1\u001b[39;49m,\u001b[39m2\u001b[39;49m,\u001b[39m4\u001b[39;49m,\u001b[39m5\u001b[39;49m])\n\u001b[1;32m      <a href='vscode-notebook-cell:/home/francis/Desktop/prototype/al.ipynb#X12sZmlsZQ%3D%3D?line=4'>5</a>\u001b[0m     cost\u001b[39m.\u001b[39mappend(kproto\u001b[39m.\u001b[39mcost_)\n\u001b[1;32m      <a href='vscode-notebook-cell:/home/francis/Desktop/prototype/al.ipynb#X12sZmlsZQ%3D%3D?line=6'>7</a>\u001b[0m plt\u001b[39m.\u001b[39mplot(cost)\n",
      "File \u001b[0;32m~/.local/lib/python3.10/site-packages/kmodes/kmodes.py:154\u001b[0m, in \u001b[0;36mKModes.fit_predict\u001b[0;34m(self, X, y, **kwargs)\u001b[0m\n\u001b[1;32m    148\u001b[0m \u001b[39mdef\u001b[39;00m \u001b[39mfit_predict\u001b[39m(\u001b[39mself\u001b[39m, X, y\u001b[39m=\u001b[39m\u001b[39mNone\u001b[39;00m, \u001b[39m*\u001b[39m\u001b[39m*\u001b[39mkwargs):\n\u001b[1;32m    149\u001b[0m \u001b[39m    \u001b[39m\u001b[39m\"\"\"Compute cluster centroids and predict cluster index for each sample.\u001b[39;00m\n\u001b[1;32m    150\u001b[0m \n\u001b[1;32m    151\u001b[0m \u001b[39m    Convenience method; equivalent to calling fit(X) followed by\u001b[39;00m\n\u001b[1;32m    152\u001b[0m \u001b[39m    predict(X).\u001b[39;00m\n\u001b[1;32m    153\u001b[0m \u001b[39m    \"\"\"\u001b[39;00m\n\u001b[0;32m--> 154\u001b[0m     \u001b[39mreturn\u001b[39;00m \u001b[39mself\u001b[39;49m\u001b[39m.\u001b[39;49mfit(X, \u001b[39m*\u001b[39;49m\u001b[39m*\u001b[39;49mkwargs)\u001b[39m.\u001b[39mpredict(X, \u001b[39m*\u001b[39m\u001b[39m*\u001b[39mkwargs)\n",
      "File \u001b[0;32m~/.local/lib/python3.10/site-packages/kmodes/kprototypes.py:161\u001b[0m, in \u001b[0;36mKPrototypes.fit\u001b[0;34m(self, X, y, categorical, sample_weight)\u001b[0m\n\u001b[1;32m    155\u001b[0m kmodes\u001b[39m.\u001b[39m_validate_sample_weight(sample_weight, n_samples\u001b[39m=\u001b[39mX\u001b[39m.\u001b[39mshape[\u001b[39m0\u001b[39m],\n\u001b[1;32m    156\u001b[0m                                n_clusters\u001b[39m=\u001b[39m\u001b[39mself\u001b[39m\u001b[39m.\u001b[39mn_clusters)\n\u001b[1;32m    158\u001b[0m \u001b[39m# If self.gamma is None, gamma will be automatically determined from\u001b[39;00m\n\u001b[1;32m    159\u001b[0m \u001b[39m# the data. The function below returns its value.\u001b[39;00m\n\u001b[1;32m    160\u001b[0m \u001b[39mself\u001b[39m\u001b[39m.\u001b[39m_enc_cluster_centroids, \u001b[39mself\u001b[39m\u001b[39m.\u001b[39m_enc_map, \u001b[39mself\u001b[39m\u001b[39m.\u001b[39mlabels_, \u001b[39mself\u001b[39m\u001b[39m.\u001b[39mcost_, \\\n\u001b[0;32m--> 161\u001b[0m \u001b[39mself\u001b[39m\u001b[39m.\u001b[39mn_iter_, \u001b[39mself\u001b[39m\u001b[39m.\u001b[39mepoch_costs_, \u001b[39mself\u001b[39m\u001b[39m.\u001b[39mgamma \u001b[39m=\u001b[39m k_prototypes(\n\u001b[1;32m    162\u001b[0m     X,\n\u001b[1;32m    163\u001b[0m     categorical,\n\u001b[1;32m    164\u001b[0m     \u001b[39mself\u001b[39;49m\u001b[39m.\u001b[39;49mn_clusters,\n\u001b[1;32m    165\u001b[0m     \u001b[39mself\u001b[39;49m\u001b[39m.\u001b[39;49mmax_iter,\n\u001b[1;32m    166\u001b[0m     \u001b[39mself\u001b[39;49m\u001b[39m.\u001b[39;49mnum_dissim,\n\u001b[1;32m    167\u001b[0m     \u001b[39mself\u001b[39;49m\u001b[39m.\u001b[39;49mcat_dissim,\n\u001b[1;32m    168\u001b[0m     \u001b[39mself\u001b[39;49m\u001b[39m.\u001b[39;49mgamma,\n\u001b[1;32m    169\u001b[0m     \u001b[39mself\u001b[39;49m\u001b[39m.\u001b[39;49minit,\n\u001b[1;32m    170\u001b[0m     \u001b[39mself\u001b[39;49m\u001b[39m.\u001b[39;49mn_init,\n\u001b[1;32m    171\u001b[0m     \u001b[39mself\u001b[39;49m\u001b[39m.\u001b[39;49mverbose,\n\u001b[1;32m    172\u001b[0m     random_state,\n\u001b[1;32m    173\u001b[0m     \u001b[39mself\u001b[39;49m\u001b[39m.\u001b[39;49mn_jobs,\n\u001b[1;32m    174\u001b[0m     sample_weight,\n\u001b[1;32m    175\u001b[0m )\n\u001b[1;32m    177\u001b[0m \u001b[39mreturn\u001b[39;00m \u001b[39mself\u001b[39m\n",
      "File \u001b[0;32m~/.local/lib/python3.10/site-packages/kmodes/kprototypes.py:299\u001b[0m, in \u001b[0;36mk_prototypes\u001b[0;34m(X, categorical, n_clusters, max_iter, num_dissim, cat_dissim, gamma, init, n_init, verbose, random_state, n_jobs, sample_weight)\u001b[0m\n\u001b[1;32m    297\u001b[0m \u001b[39mif\u001b[39;00m n_jobs \u001b[39m==\u001b[39m \u001b[39m1\u001b[39m:\n\u001b[1;32m    298\u001b[0m     \u001b[39mfor\u001b[39;00m init_no \u001b[39min\u001b[39;00m \u001b[39mrange\u001b[39m(n_init):\n\u001b[0;32m--> 299\u001b[0m         results\u001b[39m.\u001b[39mappend(_k_prototypes_single(Xnum, Xcat, nnumattrs, ncatattrs,\n\u001b[1;32m    300\u001b[0m                                             n_clusters, n_points, max_iter,\n\u001b[1;32m    301\u001b[0m                                             num_dissim, cat_dissim, gamma,\n\u001b[1;32m    302\u001b[0m                                             init, init_no, verbose, seeds[init_no],\n\u001b[1;32m    303\u001b[0m                                             sample_weight))\n\u001b[1;32m    304\u001b[0m \u001b[39melse\u001b[39;00m:\n\u001b[1;32m    305\u001b[0m     results \u001b[39m=\u001b[39m Parallel(n_jobs\u001b[39m=\u001b[39mn_jobs, verbose\u001b[39m=\u001b[39m\u001b[39m0\u001b[39m)(\n\u001b[1;32m    306\u001b[0m         delayed(_k_prototypes_single)(Xnum, Xcat, nnumattrs, ncatattrs,\n\u001b[1;32m    307\u001b[0m                                       n_clusters, n_points, max_iter,\n\u001b[1;32m    308\u001b[0m                                       num_dissim, cat_dissim, gamma,\n\u001b[1;32m    309\u001b[0m                                       init, init_no, verbose, seed, sample_weight)\n\u001b[1;32m    310\u001b[0m         \u001b[39mfor\u001b[39;00m init_no, seed \u001b[39min\u001b[39;00m \u001b[39menumerate\u001b[39m(seeds))\n",
      "File \u001b[0;32m~/.local/lib/python3.10/site-packages/kmodes/kprototypes.py:410\u001b[0m, in \u001b[0;36m_k_prototypes_single\u001b[0;34m(Xnum, Xcat, nnumattrs, ncatattrs, n_clusters, n_points, max_iter, num_dissim, cat_dissim, gamma, init, init_no, verbose, random_state, sample_weight)\u001b[0m\n\u001b[1;32m    408\u001b[0m         init \u001b[39m=\u001b[39m \u001b[39m'\u001b[39m\u001b[39mrandom\u001b[39m\u001b[39m'\u001b[39m\n\u001b[1;32m    409\u001b[0m     \u001b[39melif\u001b[39;00m init_tries \u001b[39m==\u001b[39m RAISE_INIT_TRIES:\n\u001b[0;32m--> 410\u001b[0m         \u001b[39mraise\u001b[39;00m \u001b[39mValueError\u001b[39;00m(\n\u001b[1;32m    411\u001b[0m             \u001b[39m\"\u001b[39m\u001b[39mClustering algorithm could not initialize. \u001b[39m\u001b[39m\"\u001b[39m\n\u001b[1;32m    412\u001b[0m             \u001b[39m\"\u001b[39m\u001b[39mConsider assigning the initial clusters manually.\u001b[39m\u001b[39m\"\u001b[39m\n\u001b[1;32m    413\u001b[0m         )\n\u001b[1;32m    415\u001b[0m \u001b[39m# Perform an initial centroid update.\u001b[39;00m\n\u001b[1;32m    416\u001b[0m \u001b[39mfor\u001b[39;00m ik \u001b[39min\u001b[39;00m \u001b[39mrange\u001b[39m(n_clusters):\n",
      "\u001b[0;31mValueError\u001b[0m: Clustering algorithm could not initialize. Consider assigning the initial clusters manually."
     ]
    }
   ],
   "source": [
    "cost = []\n",
    "for num_clusters in list(range(1,14)):\n",
    "    kproto = KPrototypes(n_clusters=num_clusters, init='Cao')\n",
    "    kproto.fit_predict(data, categorical=[0,1,2,4,5])\n",
    "    cost.append(kproto.cost_)\n",
    "    \n",
    "plt.plot(cost)"
   ]
  },
  {
   "cell_type": "code",
   "execution_count": null,
   "metadata": {},
   "outputs": [],
   "source": [
    "cost = []\n",
    "for num_clusters in range(1,11):\n",
    "    kproto = KPrototypes(n_clusters=num_clusters, init='Cao')\n",
    "    kproto.fit_predict(data, categorical=[0,1,2,4,5])\n",
    "    cost.append(kproto.cost_)\n",
    "\n",
    "plt.plot(cost)"
   ]
  },
  {
   "cell_type": "code",
   "execution_count": null,
   "metadata": {},
   "outputs": [
    {
     "ename": "ValueError",
     "evalue": "could not convert string to float: 'T1'",
     "output_type": "error",
     "traceback": [
      "\u001b[0;31m---------------------------------------------------------------------------\u001b[0m",
      "\u001b[0;31mValueError\u001b[0m                                Traceback (most recent call last)",
      "\u001b[1;32m/home/francis/Desktop/prototype/al.ipynb Cell 4\u001b[0m line \u001b[0;36m8\n\u001b[1;32m      <a href='vscode-notebook-cell:/home/francis/Desktop/prototype/al.ipynb#W2sZmlsZQ%3D%3D?line=5'>6</a>\u001b[0m \u001b[39mfor\u001b[39;00m i \u001b[39min\u001b[39;00m \u001b[39mrange\u001b[39m(\u001b[39m1\u001b[39m,\u001b[39m10\u001b[39m):\n\u001b[1;32m      <a href='vscode-notebook-cell:/home/francis/Desktop/prototype/al.ipynb#W2sZmlsZQ%3D%3D?line=6'>7</a>\u001b[0m     kmeans \u001b[39m=\u001b[39m KMeans(n_clusters\u001b[39m=\u001b[39mi)\n\u001b[0;32m----> <a href='vscode-notebook-cell:/home/francis/Desktop/prototype/al.ipynb#W2sZmlsZQ%3D%3D?line=7'>8</a>\u001b[0m     kmeans\u001b[39m.\u001b[39;49mfit(data)\n\u001b[1;32m      <a href='vscode-notebook-cell:/home/francis/Desktop/prototype/al.ipynb#W2sZmlsZQ%3D%3D?line=8'>9</a>\u001b[0m     inertias\u001b[39m.\u001b[39mappend(kmeans\u001b[39m.\u001b[39minertia_)\n\u001b[1;32m     <a href='vscode-notebook-cell:/home/francis/Desktop/prototype/al.ipynb#W2sZmlsZQ%3D%3D?line=10'>11</a>\u001b[0m plt\u001b[39m.\u001b[39mplot(\u001b[39mrange\u001b[39m(\u001b[39m1\u001b[39m,\u001b[39m10\u001b[39m), inertias, marker\u001b[39m=\u001b[39m\u001b[39m'\u001b[39m\u001b[39mo\u001b[39m\u001b[39m'\u001b[39m)\n",
      "File \u001b[0;32m~/.local/lib/python3.10/site-packages/sklearn/base.py:1151\u001b[0m, in \u001b[0;36m_fit_context.<locals>.decorator.<locals>.wrapper\u001b[0;34m(estimator, *args, **kwargs)\u001b[0m\n\u001b[1;32m   1144\u001b[0m     estimator\u001b[39m.\u001b[39m_validate_params()\n\u001b[1;32m   1146\u001b[0m \u001b[39mwith\u001b[39;00m config_context(\n\u001b[1;32m   1147\u001b[0m     skip_parameter_validation\u001b[39m=\u001b[39m(\n\u001b[1;32m   1148\u001b[0m         prefer_skip_nested_validation \u001b[39mor\u001b[39;00m global_skip_validation\n\u001b[1;32m   1149\u001b[0m     )\n\u001b[1;32m   1150\u001b[0m ):\n\u001b[0;32m-> 1151\u001b[0m     \u001b[39mreturn\u001b[39;00m fit_method(estimator, \u001b[39m*\u001b[39;49margs, \u001b[39m*\u001b[39;49m\u001b[39m*\u001b[39;49mkwargs)\n",
      "File \u001b[0;32m~/.local/lib/python3.10/site-packages/sklearn/cluster/_kmeans.py:1471\u001b[0m, in \u001b[0;36mKMeans.fit\u001b[0;34m(self, X, y, sample_weight)\u001b[0m\n\u001b[1;32m   1443\u001b[0m \u001b[39m@_fit_context\u001b[39m(prefer_skip_nested_validation\u001b[39m=\u001b[39m\u001b[39mTrue\u001b[39;00m)\n\u001b[1;32m   1444\u001b[0m \u001b[39mdef\u001b[39;00m \u001b[39mfit\u001b[39m(\u001b[39mself\u001b[39m, X, y\u001b[39m=\u001b[39m\u001b[39mNone\u001b[39;00m, sample_weight\u001b[39m=\u001b[39m\u001b[39mNone\u001b[39;00m):\n\u001b[1;32m   1445\u001b[0m \u001b[39m    \u001b[39m\u001b[39m\"\"\"Compute k-means clustering.\u001b[39;00m\n\u001b[1;32m   1446\u001b[0m \n\u001b[1;32m   1447\u001b[0m \u001b[39m    Parameters\u001b[39;00m\n\u001b[0;32m   (...)\u001b[0m\n\u001b[1;32m   1469\u001b[0m \u001b[39m        Fitted estimator.\u001b[39;00m\n\u001b[1;32m   1470\u001b[0m \u001b[39m    \"\"\"\u001b[39;00m\n\u001b[0;32m-> 1471\u001b[0m     X \u001b[39m=\u001b[39m \u001b[39mself\u001b[39;49m\u001b[39m.\u001b[39;49m_validate_data(\n\u001b[1;32m   1472\u001b[0m         X,\n\u001b[1;32m   1473\u001b[0m         accept_sparse\u001b[39m=\u001b[39;49m\u001b[39m\"\u001b[39;49m\u001b[39mcsr\u001b[39;49m\u001b[39m\"\u001b[39;49m,\n\u001b[1;32m   1474\u001b[0m         dtype\u001b[39m=\u001b[39;49m[np\u001b[39m.\u001b[39;49mfloat64, np\u001b[39m.\u001b[39;49mfloat32],\n\u001b[1;32m   1475\u001b[0m         order\u001b[39m=\u001b[39;49m\u001b[39m\"\u001b[39;49m\u001b[39mC\u001b[39;49m\u001b[39m\"\u001b[39;49m,\n\u001b[1;32m   1476\u001b[0m         copy\u001b[39m=\u001b[39;49m\u001b[39mself\u001b[39;49m\u001b[39m.\u001b[39;49mcopy_x,\n\u001b[1;32m   1477\u001b[0m         accept_large_sparse\u001b[39m=\u001b[39;49m\u001b[39mFalse\u001b[39;49;00m,\n\u001b[1;32m   1478\u001b[0m     )\n\u001b[1;32m   1480\u001b[0m     \u001b[39mself\u001b[39m\u001b[39m.\u001b[39m_check_params_vs_input(X)\n\u001b[1;32m   1482\u001b[0m     random_state \u001b[39m=\u001b[39m check_random_state(\u001b[39mself\u001b[39m\u001b[39m.\u001b[39mrandom_state)\n",
      "File \u001b[0;32m~/.local/lib/python3.10/site-packages/sklearn/base.py:604\u001b[0m, in \u001b[0;36mBaseEstimator._validate_data\u001b[0;34m(self, X, y, reset, validate_separately, cast_to_ndarray, **check_params)\u001b[0m\n\u001b[1;32m    602\u001b[0m         out \u001b[39m=\u001b[39m X, y\n\u001b[1;32m    603\u001b[0m \u001b[39melif\u001b[39;00m \u001b[39mnot\u001b[39;00m no_val_X \u001b[39mand\u001b[39;00m no_val_y:\n\u001b[0;32m--> 604\u001b[0m     out \u001b[39m=\u001b[39m check_array(X, input_name\u001b[39m=\u001b[39;49m\u001b[39m\"\u001b[39;49m\u001b[39mX\u001b[39;49m\u001b[39m\"\u001b[39;49m, \u001b[39m*\u001b[39;49m\u001b[39m*\u001b[39;49mcheck_params)\n\u001b[1;32m    605\u001b[0m \u001b[39melif\u001b[39;00m no_val_X \u001b[39mand\u001b[39;00m \u001b[39mnot\u001b[39;00m no_val_y:\n\u001b[1;32m    606\u001b[0m     out \u001b[39m=\u001b[39m _check_y(y, \u001b[39m*\u001b[39m\u001b[39m*\u001b[39mcheck_params)\n",
      "File \u001b[0;32m~/.local/lib/python3.10/site-packages/sklearn/utils/validation.py:917\u001b[0m, in \u001b[0;36mcheck_array\u001b[0;34m(array, accept_sparse, accept_large_sparse, dtype, order, copy, force_all_finite, ensure_2d, allow_nd, ensure_min_samples, ensure_min_features, estimator, input_name)\u001b[0m\n\u001b[1;32m    915\u001b[0m         array \u001b[39m=\u001b[39m xp\u001b[39m.\u001b[39mastype(array, dtype, copy\u001b[39m=\u001b[39m\u001b[39mFalse\u001b[39;00m)\n\u001b[1;32m    916\u001b[0m     \u001b[39melse\u001b[39;00m:\n\u001b[0;32m--> 917\u001b[0m         array \u001b[39m=\u001b[39m _asarray_with_order(array, order\u001b[39m=\u001b[39;49morder, dtype\u001b[39m=\u001b[39;49mdtype, xp\u001b[39m=\u001b[39;49mxp)\n\u001b[1;32m    918\u001b[0m \u001b[39mexcept\u001b[39;00m ComplexWarning \u001b[39mas\u001b[39;00m complex_warning:\n\u001b[1;32m    919\u001b[0m     \u001b[39mraise\u001b[39;00m \u001b[39mValueError\u001b[39;00m(\n\u001b[1;32m    920\u001b[0m         \u001b[39m\"\u001b[39m\u001b[39mComplex data not supported\u001b[39m\u001b[39m\\n\u001b[39;00m\u001b[39m{}\u001b[39;00m\u001b[39m\\n\u001b[39;00m\u001b[39m\"\u001b[39m\u001b[39m.\u001b[39mformat(array)\n\u001b[1;32m    921\u001b[0m     ) \u001b[39mfrom\u001b[39;00m \u001b[39mcomplex_warning\u001b[39;00m\n",
      "File \u001b[0;32m~/.local/lib/python3.10/site-packages/sklearn/utils/_array_api.py:380\u001b[0m, in \u001b[0;36m_asarray_with_order\u001b[0;34m(array, dtype, order, copy, xp)\u001b[0m\n\u001b[1;32m    378\u001b[0m     array \u001b[39m=\u001b[39m numpy\u001b[39m.\u001b[39marray(array, order\u001b[39m=\u001b[39morder, dtype\u001b[39m=\u001b[39mdtype)\n\u001b[1;32m    379\u001b[0m \u001b[39melse\u001b[39;00m:\n\u001b[0;32m--> 380\u001b[0m     array \u001b[39m=\u001b[39m numpy\u001b[39m.\u001b[39;49masarray(array, order\u001b[39m=\u001b[39;49morder, dtype\u001b[39m=\u001b[39;49mdtype)\n\u001b[1;32m    382\u001b[0m \u001b[39m# At this point array is a NumPy ndarray. We convert it to an array\u001b[39;00m\n\u001b[1;32m    383\u001b[0m \u001b[39m# container that is consistent with the input's namespace.\u001b[39;00m\n\u001b[1;32m    384\u001b[0m \u001b[39mreturn\u001b[39;00m xp\u001b[39m.\u001b[39masarray(array)\n",
      "\u001b[0;31mValueError\u001b[0m: could not convert string to float: 'T1'"
     ]
    }
   ],
   "source": [
    "from sklearn.cluster import KMeans\n",
    "\n",
    "# data = list(zip(x, y))\n",
    "inertias = []\n",
    "\n",
    "for i in range(1,10):\n",
    "    kmeans = KMeans(n_clusters=i)\n",
    "    kmeans.fit(data)\n",
    "    inertias.append(kmeans.inertia_)\n",
    "\n",
    "plt.plot(range(1,10), inertias, marker='o')\n",
    "plt.title('Elbow method')\n",
    "plt.xlabel('Number of clusters')\n",
    "plt.ylabel('Inertia')\n",
    "plt.show()"
   ]
  }
 ],
 "metadata": {
  "kernelspec": {
   "display_name": "Python 3",
   "language": "python",
   "name": "python3"
  },
  "language_info": {
   "codemirror_mode": {
    "name": "ipython",
    "version": 3
   },
   "file_extension": ".py",
   "mimetype": "text/x-python",
   "name": "python",
   "nbconvert_exporter": "python",
   "pygments_lexer": "ipython3",
   "version": "3.10.12"
  },
  "orig_nbformat": 4
 },
 "nbformat": 4,
 "nbformat_minor": 2
}
