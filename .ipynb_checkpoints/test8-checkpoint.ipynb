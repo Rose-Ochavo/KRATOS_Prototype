{
 "cells": [
  {
   "cell_type": "code",
   "execution_count": 107,
   "metadata": {},
   "outputs": [
    {
     "name": "stdout",
     "output_type": "stream",
     "text": [
      "   ID TRANSACTION  BRAND          ITEM  QUANTITY    PRICE        DATE\n",
      "0   1          T1  HONDA    PETRON OIL       1.0  ₱225.00  01/03/2023\n",
      "1   2          T1  HONDA   TIRE SYLANT       1.0  ₱120.00  01/03/2023\n",
      "2   3          T1  HONDA          PITO       1.0   ₱60.00  01/03/2023\n",
      "3   4          T1  HONDA     TIRE GOMA       1.0  ₱140.00  01/03/2023\n",
      "4   5          T1  HONDA     TIRE GOMA       1.0  ₱150.00  01/03/2023\n",
      "5   6          T1  HONDA          HORN       1.0  ₱100.00  01/03/2023\n",
      "6   7          T1  HONDA  ALLEN WRENCH       1.0   ₱16.00  01/03/2023\n",
      "7   8          T1  HONDA      JRP SEAT       1.0  ₱300.00  01/03/2023\n",
      "8   9          T1  HONDA     TIRE GOMA       1.0  ₱150.00  01/03/2023\n"
     ]
    }
   ],
   "source": [
    "import numpy as np\n",
    "import pandas as pd\n",
    "from kmodes.kprototypes import KPrototypes\n",
    "import matplotlib.pyplot as plt\n",
    "from sklearn.preprocessing import LabelEncoder, StandardScaler\n",
    "\n",
    "# Create a synthetic mixed data dataset\n",
    "# data = {\n",
    "#     'Category': ['TIRE', 'PETRON OIL', 'TIRE', 'PITO', 'TIRE', 'TIRE', 'HORN', 'ALLEN WRENCH', 'JRP SEAT', 'TIRE'],\n",
    "#     'Numeric1': [225.00, 120.00, 60.00, 140.00, 150.00, 100.00, 16.00, 300.00, 150.00, 100.00], # price\n",
    "#     'Numeric2': [1, 2, 3, 6, 9, 5, 3, 4, 3, 5] #item \n",
    "# }\n",
    "\n",
    "data = pd.read_csv('al.csv')\n",
    "data['QUANTITY'].fillna(1, inplace=True)\n",
    "\n",
    "\n",
    "df = pd.DataFrame(data)\n",
    "\n",
    "print(df)"
   ]
  },
  {
   "cell_type": "code",
   "execution_count": 109,
   "metadata": {},
   "outputs": [
    {
     "ename": "ValueError",
     "evalue": "y should be a 1d array, got an array of shape (9, 6) instead.",
     "output_type": "error",
     "traceback": [
      "\u001b[0;31m---------------------------------------------------------------------------\u001b[0m",
      "\u001b[0;31mValueError\u001b[0m                                Traceback (most recent call last)",
      "\u001b[1;32m/home/francis/Desktop/prototype/test8.ipynb Cell 2\u001b[0m line \u001b[0;36m2\n\u001b[1;32m     <a href='vscode-notebook-cell:/home/francis/Desktop/prototype/test8.ipynb#X12sZmlsZQ%3D%3D?line=20'>21</a>\u001b[0m label_encoder \u001b[39m=\u001b[39m LabelEncoder()\n\u001b[1;32m     <a href='vscode-notebook-cell:/home/francis/Desktop/prototype/test8.ipynb#X12sZmlsZQ%3D%3D?line=22'>23</a>\u001b[0m cat_columns \u001b[39m=\u001b[39m df[[\u001b[39m'\u001b[39m\u001b[39mID\u001b[39m\u001b[39m'\u001b[39m, \u001b[39m'\u001b[39m\u001b[39mTRANSACTION\u001b[39m\u001b[39m'\u001b[39m, \u001b[39m'\u001b[39m\u001b[39mBRAND\u001b[39m\u001b[39m'\u001b[39m, \u001b[39m'\u001b[39m\u001b[39mITEM\u001b[39m\u001b[39m'\u001b[39m, \u001b[39m'\u001b[39m\u001b[39mPRICE\u001b[39m\u001b[39m'\u001b[39m, \u001b[39m'\u001b[39m\u001b[39mDATE\u001b[39m\u001b[39m'\u001b[39m]]\n\u001b[0;32m---> <a href='vscode-notebook-cell:/home/francis/Desktop/prototype/test8.ipynb#X12sZmlsZQ%3D%3D?line=23'>24</a>\u001b[0m df[\u001b[39m'\u001b[39m\u001b[39mCategory_encoded\u001b[39m\u001b[39m'\u001b[39m] \u001b[39m=\u001b[39m label_encoder\u001b[39m.\u001b[39;49mfit_transform(cat_columns)\n\u001b[1;32m     <a href='vscode-notebook-cell:/home/francis/Desktop/prototype/test8.ipynb#X12sZmlsZQ%3D%3D?line=25'>26</a>\u001b[0m \u001b[39m# Scale numerical data\u001b[39;00m\n\u001b[1;32m     <a href='vscode-notebook-cell:/home/francis/Desktop/prototype/test8.ipynb#X12sZmlsZQ%3D%3D?line=26'>27</a>\u001b[0m scaler \u001b[39m=\u001b[39m StandardScaler()\n",
      "File \u001b[0;32m~/.local/lib/python3.10/site-packages/sklearn/utils/_set_output.py:140\u001b[0m, in \u001b[0;36m_wrap_method_output.<locals>.wrapped\u001b[0;34m(self, X, *args, **kwargs)\u001b[0m\n\u001b[1;32m    138\u001b[0m \u001b[39m@wraps\u001b[39m(f)\n\u001b[1;32m    139\u001b[0m \u001b[39mdef\u001b[39;00m \u001b[39mwrapped\u001b[39m(\u001b[39mself\u001b[39m, X, \u001b[39m*\u001b[39margs, \u001b[39m*\u001b[39m\u001b[39m*\u001b[39mkwargs):\n\u001b[0;32m--> 140\u001b[0m     data_to_wrap \u001b[39m=\u001b[39m f(\u001b[39mself\u001b[39;49m, X, \u001b[39m*\u001b[39;49margs, \u001b[39m*\u001b[39;49m\u001b[39m*\u001b[39;49mkwargs)\n\u001b[1;32m    141\u001b[0m     \u001b[39mif\u001b[39;00m \u001b[39misinstance\u001b[39m(data_to_wrap, \u001b[39mtuple\u001b[39m):\n\u001b[1;32m    142\u001b[0m         \u001b[39m# only wrap the first output for cross decomposition\u001b[39;00m\n\u001b[1;32m    143\u001b[0m         return_tuple \u001b[39m=\u001b[39m (\n\u001b[1;32m    144\u001b[0m             _wrap_data_with_container(method, data_to_wrap[\u001b[39m0\u001b[39m], X, \u001b[39mself\u001b[39m),\n\u001b[1;32m    145\u001b[0m             \u001b[39m*\u001b[39mdata_to_wrap[\u001b[39m1\u001b[39m:],\n\u001b[1;32m    146\u001b[0m         )\n",
      "File \u001b[0;32m~/.local/lib/python3.10/site-packages/sklearn/preprocessing/_label.py:114\u001b[0m, in \u001b[0;36mLabelEncoder.fit_transform\u001b[0;34m(self, y)\u001b[0m\n\u001b[1;32m    101\u001b[0m \u001b[39mdef\u001b[39;00m \u001b[39mfit_transform\u001b[39m(\u001b[39mself\u001b[39m, y):\n\u001b[1;32m    102\u001b[0m \u001b[39m    \u001b[39m\u001b[39m\"\"\"Fit label encoder and return encoded labels.\u001b[39;00m\n\u001b[1;32m    103\u001b[0m \n\u001b[1;32m    104\u001b[0m \u001b[39m    Parameters\u001b[39;00m\n\u001b[0;32m   (...)\u001b[0m\n\u001b[1;32m    112\u001b[0m \u001b[39m        Encoded labels.\u001b[39;00m\n\u001b[1;32m    113\u001b[0m \u001b[39m    \"\"\"\u001b[39;00m\n\u001b[0;32m--> 114\u001b[0m     y \u001b[39m=\u001b[39m column_or_1d(y, warn\u001b[39m=\u001b[39;49m\u001b[39mTrue\u001b[39;49;00m)\n\u001b[1;32m    115\u001b[0m     \u001b[39mself\u001b[39m\u001b[39m.\u001b[39mclasses_, y \u001b[39m=\u001b[39m _unique(y, return_inverse\u001b[39m=\u001b[39m\u001b[39mTrue\u001b[39;00m)\n\u001b[1;32m    116\u001b[0m     \u001b[39mreturn\u001b[39;00m y\n",
      "File \u001b[0;32m~/.local/lib/python3.10/site-packages/sklearn/utils/validation.py:1245\u001b[0m, in \u001b[0;36mcolumn_or_1d\u001b[0;34m(y, dtype, warn)\u001b[0m\n\u001b[1;32m   1234\u001b[0m         warnings\u001b[39m.\u001b[39mwarn(\n\u001b[1;32m   1235\u001b[0m             (\n\u001b[1;32m   1236\u001b[0m                 \u001b[39m\"\u001b[39m\u001b[39mA column-vector y was passed when a 1d array was\u001b[39m\u001b[39m\"\u001b[39m\n\u001b[0;32m   (...)\u001b[0m\n\u001b[1;32m   1241\u001b[0m             stacklevel\u001b[39m=\u001b[39m\u001b[39m2\u001b[39m,\n\u001b[1;32m   1242\u001b[0m         )\n\u001b[1;32m   1243\u001b[0m     \u001b[39mreturn\u001b[39;00m _asarray_with_order(xp\u001b[39m.\u001b[39mreshape(y, (\u001b[39m-\u001b[39m\u001b[39m1\u001b[39m,)), order\u001b[39m=\u001b[39m\u001b[39m\"\u001b[39m\u001b[39mC\u001b[39m\u001b[39m\"\u001b[39m, xp\u001b[39m=\u001b[39mxp)\n\u001b[0;32m-> 1245\u001b[0m \u001b[39mraise\u001b[39;00m \u001b[39mValueError\u001b[39;00m(\n\u001b[1;32m   1246\u001b[0m     \u001b[39m\"\u001b[39m\u001b[39my should be a 1d array, got an array of shape \u001b[39m\u001b[39m{}\u001b[39;00m\u001b[39m instead.\u001b[39m\u001b[39m\"\u001b[39m\u001b[39m.\u001b[39mformat(shape)\n\u001b[1;32m   1247\u001b[0m )\n",
      "\u001b[0;31mValueError\u001b[0m: y should be a 1d array, got an array of shape (9, 6) instead."
     ]
    }
   ],
   "source": [
    "import numpy as np\n",
    "import pandas as pd\n",
    "from kmodes.kprototypes import KPrototypes\n",
    "import matplotlib.pyplot as plt\n",
    "from sklearn.preprocessing import LabelEncoder, StandardScaler\n",
    "\n",
    "# Create a synthetic mixed data dataset\n",
    "# data = {\n",
    "#     'Category': ['TIRE', 'PETRON OIL', 'TIRE', 'PITO', 'TIRE', 'TIRE', 'HORN', 'ALLEN WRENCH', 'JRP SEAT', 'TIRE'],\n",
    "#     'Numeric1': [225.00, 120.00, 60.00, 140.00, 150.00, 100.00, 16.00, 300.00, 150.00, 100.00], # price\n",
    "#     'Numeric2': [1, 2, 3, 6, 9, 5, 3, 4, 3, 5] #item \n",
    "# }\n",
    "\n",
    "data = pd.read_csv('al.csv')\n",
    "\n",
    "data['QUANTITY'].fillna(1, inplace=True)\n",
    "\n",
    "df = pd.DataFrame(data)\n",
    "\n",
    "# Encode categorical data\n",
    "label_encoder = LabelEncoder()\n",
    "\n",
    "cat_columns = df[['ID', 'TRANSACTION', 'BRAND', 'ITEM', 'PRICE', 'DATE']]\n",
    "df['Category_encoded'] = label_encoder.fit_transform(cat_columns)\n",
    "\n",
    "# Scale numerical data\n",
    "scaler = StandardScaler()\n",
    "\n",
    "num_columns = df['QUANTITY']\n",
    "df[['Numeric1', 'Numeric2']] = scaler.fit_transform(num_columns)\n",
    "\n",
    "# Define the number of clusters (k)\n",
    "k = 4\n",
    "\n",
    "# Initialize and fit k-Prototypes model\n",
    "kproto = KPrototypes(n_clusters=k, init='Cao', verbose=0)\n",
    "clusters = kproto.fit_predict(df.values, categorical=[0, 1, 2, 3, 5, 6])  # Specify that 'Category_encoded' is categorical\n",
    "\n",
    "# Add cluster labels to the DataFrame\n",
    "df['Cluster'] = clusters\n",
    "\n",
    "# Plot the clusters\n",
    "plt.figure(figsize=(9, 6))\n",
    "for cluster in range(k):\n",
    "    cluster_data = df[df['Cluster'] == cluster]\n",
    "    plt.scatter(\n",
    "        cluster_data['Numeric1'],\n",
    "        cluster_data['Category_encoded'],\n",
    "        label=f'Cluster {cluster + 1}'\n",
    "    )\n",
    "\n",
    "plt.title(f'k-Prototypes Clustering (k={k})')\n",
    "plt.xlabel('Numeric1')\n",
    "plt.ylabel('Numeric2')\n",
    "# plt.legend()\n",
    "plt.grid(True)\n",
    "plt.show()\n"
   ]
  },
  {
   "cell_type": "code",
   "execution_count": null,
   "metadata": {},
   "outputs": [
    {
     "name": "stdout",
     "output_type": "stream",
     "text": [
      "0    5\n",
      "1    3\n",
      "2    5\n",
      "3    4\n",
      "4    5\n",
      "5    5\n",
      "6    1\n",
      "7    0\n",
      "8    2\n",
      "9    5\n",
      "Name: Category_encoded, dtype: int64\n"
     ]
    }
   ],
   "source": [
    "print(df['Category_encoded'])"
   ]
  },
  {
   "cell_type": "code",
   "execution_count": null,
   "metadata": {},
   "outputs": [
    {
     "name": "stdout",
     "output_type": "stream",
     "text": [
      "       Category  Numeric1  Numeric2  Category_encoded  Cluster\n",
      "0          TIRE  1.164818 -1.431447                 5        0\n",
      "1    PETRON OIL -0.210951 -0.969690                 3        2\n",
      "2          TIRE -0.997105 -0.507933                 5        1\n",
      "3          PITO  0.051100  0.877338                 4        1\n",
      "4          TIRE  0.182126  2.262610                 5        1\n",
      "5          TIRE -0.473002  0.415581                 5        1\n",
      "6          HORN -1.573617 -0.507933                 1        2\n",
      "7  ALLEN WRENCH  2.147509 -0.046176                 0        3\n",
      "8      JRP SEAT  0.182126 -0.507933                 2        2\n",
      "9          TIRE -0.473002  0.415581                 5        1\n"
     ]
    }
   ],
   "source": [
    "print(df)"
   ]
  }
 ],
 "metadata": {
  "kernelspec": {
   "display_name": "Python 3",
   "language": "python",
   "name": "python3"
  },
  "language_info": {
   "codemirror_mode": {
    "name": "ipython",
    "version": 3
   },
   "file_extension": ".py",
   "mimetype": "text/x-python",
   "name": "python",
   "nbconvert_exporter": "python",
   "pygments_lexer": "ipython3",
   "version": "3.10.12"
  },
  "orig_nbformat": 4
 },
 "nbformat": 4,
 "nbformat_minor": 2
}
