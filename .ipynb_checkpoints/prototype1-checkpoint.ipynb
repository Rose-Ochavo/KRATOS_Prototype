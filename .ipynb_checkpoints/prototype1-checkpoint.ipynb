{
 "cells": [
  {
   "cell_type": "code",
   "execution_count": 5,
   "id": "91832787-38e8-4986-ae61-27f8c48c2bf0",
   "metadata": {},
   "outputs": [],
   "source": [
    "# Import libraries\n",
    "import random\n",
    "import numpy as np\n",
    "import pandas as pd\n",
    "\n",
    "import matplotlib.pyplot as plt\n",
    "%matplotlib inline "
   ]
  },
  {
   "cell_type": "code",
   "execution_count": 6,
   "id": "33d1b5dc-5d02-4d5d-b526-6c2538821256",
   "metadata": {},
   "outputs": [
    {
     "data": {
      "text/html": [
       "<div>\n",
       "<style scoped>\n",
       "    .dataframe tbody tr th:only-of-type {\n",
       "        vertical-align: middle;\n",
       "    }\n",
       "\n",
       "    .dataframe tbody tr th {\n",
       "        vertical-align: top;\n",
       "    }\n",
       "\n",
       "    .dataframe thead th {\n",
       "        text-align: right;\n",
       "    }\n",
       "</style>\n",
       "<table border=\"1\" class=\"dataframe\">\n",
       "  <thead>\n",
       "    <tr style=\"text-align: right;\">\n",
       "      <th></th>\n",
       "      <th>ID</th>\n",
       "      <th>TRANSACTION</th>\n",
       "      <th>BRAND</th>\n",
       "      <th>ITEM</th>\n",
       "      <th>QUANTITY</th>\n",
       "      <th>PRICE</th>\n",
       "      <th>DATE</th>\n",
       "    </tr>\n",
       "  </thead>\n",
       "  <tbody>\n",
       "    <tr>\n",
       "      <th>0</th>\n",
       "      <td>1</td>\n",
       "      <td>T1</td>\n",
       "      <td>HONDA</td>\n",
       "      <td>PETRON OIL</td>\n",
       "      <td>NaN</td>\n",
       "      <td>₱225.00</td>\n",
       "      <td>01/03/2023</td>\n",
       "    </tr>\n",
       "    <tr>\n",
       "      <th>1</th>\n",
       "      <td>2</td>\n",
       "      <td>T1</td>\n",
       "      <td>HONDA</td>\n",
       "      <td>TIRE SYLANT</td>\n",
       "      <td>NaN</td>\n",
       "      <td>₱120.00</td>\n",
       "      <td>01/03/2023</td>\n",
       "    </tr>\n",
       "    <tr>\n",
       "      <th>2</th>\n",
       "      <td>3</td>\n",
       "      <td>T1</td>\n",
       "      <td>HONDA</td>\n",
       "      <td>PITO</td>\n",
       "      <td>NaN</td>\n",
       "      <td>₱60.00</td>\n",
       "      <td>01/03/2023</td>\n",
       "    </tr>\n",
       "    <tr>\n",
       "      <th>3</th>\n",
       "      <td>4</td>\n",
       "      <td>T1</td>\n",
       "      <td>HONDA</td>\n",
       "      <td>TIRE GOMA</td>\n",
       "      <td>NaN</td>\n",
       "      <td>₱140.00</td>\n",
       "      <td>01/03/2023</td>\n",
       "    </tr>\n",
       "    <tr>\n",
       "      <th>4</th>\n",
       "      <td>5</td>\n",
       "      <td>T1</td>\n",
       "      <td>HONDA</td>\n",
       "      <td>TIRE GOMA</td>\n",
       "      <td>NaN</td>\n",
       "      <td>₱150.00</td>\n",
       "      <td>01/03/2023</td>\n",
       "    </tr>\n",
       "  </tbody>\n",
       "</table>\n",
       "</div>"
      ],
      "text/plain": [
       "   ID TRANSACTION  BRAND         ITEM  QUANTITY    PRICE        DATE\n",
       "0   1          T1  HONDA   PETRON OIL       NaN  ₱225.00  01/03/2023\n",
       "1   2          T1  HONDA  TIRE SYLANT       NaN  ₱120.00  01/03/2023\n",
       "2   3          T1  HONDA         PITO       NaN   ₱60.00  01/03/2023\n",
       "3   4          T1  HONDA    TIRE GOMA       NaN  ₱140.00  01/03/2023\n",
       "4   5          T1  HONDA    TIRE GOMA       NaN  ₱150.00  01/03/2023"
      ]
     },
     "execution_count": 6,
     "metadata": {},
     "output_type": "execute_result"
    }
   ],
   "source": [
    "data = pd.read_csv('dataset.csv')\n",
    "data.head()"
   ]
  },
  {
   "cell_type": "code",
   "execution_count": 2,
   "id": "14fa35cc-e670-44fe-8ad7-d13654dab034",
   "metadata": {},
   "outputs": [
    {
     "ename": "NameError",
     "evalue": "name 'data' is not defined",
     "output_type": "error",
     "traceback": [
      "\u001b[0;31m---------------------------------------------------------------------------\u001b[0m",
      "\u001b[0;31mNameError\u001b[0m                                 Traceback (most recent call last)",
      "Cell \u001b[0;32mIn[2], line 1\u001b[0m\n\u001b[0;32m----> 1\u001b[0m \u001b[43mdata\u001b[49m\u001b[38;5;241m.\u001b[39minfo()\n",
      "\u001b[0;31mNameError\u001b[0m: name 'data' is not defined"
     ]
    }
   ],
   "source": [
    "data.info()"
   ]
  },
  {
   "cell_type": "code",
   "execution_count": null,
   "id": "da05e57f-6d14-414b-b9c0-c2105adfdb7c",
   "metadata": {},
   "outputs": [],
   "source": []
  },
  {
   "cell_type": "code",
   "execution_count": null,
   "id": "933b49c6-3162-4676-827a-362f7ce4c5cd",
   "metadata": {},
   "outputs": [],
   "source": []
  }
 ],
 "metadata": {
  "kernelspec": {
   "display_name": "Python 3 (ipykernel)",
   "language": "python",
   "name": "python3"
  },
  "language_info": {
   "codemirror_mode": {
    "name": "ipython",
    "version": 3
   },
   "file_extension": ".py",
   "mimetype": "text/x-python",
   "name": "python",
   "nbconvert_exporter": "python",
   "pygments_lexer": "ipython3",
   "version": "3.10.12"
  }
 },
 "nbformat": 4,
 "nbformat_minor": 5
}
