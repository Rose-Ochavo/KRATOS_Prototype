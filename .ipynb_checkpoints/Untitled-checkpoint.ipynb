{
 "cells": [
  {
   "cell_type": "code",
   "execution_count": null,
   "id": "6f3023a5-7c3e-4a5e-a53e-cadbf260654f",
   "metadata": {},
   "outputs": [],
   "source": [
    "import pandas as pd\n",
    "from sklearn.cluster import KMeans\n",
    "from sklearn.preprocessing import StandardScaler\n",
    "import matplotlib.pyplot as plt\n",
    "\n",
    "# Load the CSV file dataset into a pandas dataframe\n",
    "data = pd.read_csv(\"dataset.csv\")\n",
    "\n",
    "# Preprocess the data\n",
    "X = data.drop(['id', 'transaction', 'brand', 'item', 'date'], axis=1)\n",
    "X = pd.get_dummies(X, columns=['quantity'])\n",
    "scaler = StandardScaler()\n",
    "X_scaled = scaler.fit_transform(X)\n",
    "\n",
    "# Determine the optimal number of clusters\n",
    "# (e.g. using the elbow method or silhouette analysis)\n",
    "\n",
    "# Apply the k-means algorithm\n",
    "kmeans = KMeans(n_clusters=3, random_state=0).fit(X_scaled)\n",
    "\n",
    "# Visualize the results\n",
    "plt.scatter(X_scaled[:, 0], X_scaled[:, 1], c=kmeans.labels_)\n",
    "plt.xlabel('Price')\n",
    "plt.ylabel('Quantity')\n",
    "plt.show()"
   ]
  }
 ],
 "metadata": {
  "kernelspec": {
   "display_name": "Python 3 (ipykernel)",
   "language": "python",
   "name": "python3"
  },
  "language_info": {
   "codemirror_mode": {
    "name": "ipython",
    "version": 3
   },
   "file_extension": ".py",
   "mimetype": "text/x-python",
   "name": "python",
   "nbconvert_exporter": "python",
   "pygments_lexer": "ipython3",
   "version": "3.10.12"
  }
 },
 "nbformat": 4,
 "nbformat_minor": 5
}
