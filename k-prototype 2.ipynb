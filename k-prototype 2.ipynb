{
 "cells": [
  {
   "cell_type": "code",
   "execution_count": 1,
   "metadata": {},
   "outputs": [
    {
     "name": "stdout",
     "output_type": "stream",
     "text": [
      "   Color    Size  Cluster\n",
      "0    Red   Small        0\n",
      "1   Blue   Large        1\n",
      "2  Green  Medium        0\n",
      "3    Red   Small        0\n",
      "4   Blue   Large        1\n"
     ]
    },
    {
     "name": "stderr",
     "output_type": "stream",
     "text": [
      "/home/francis/.local/lib/python3.10/site-packages/sklearn/preprocessing/_encoders.py:972: FutureWarning: `sparse` was renamed to `sparse_output` in version 1.2 and will be removed in 1.4. `sparse_output` is ignored unless you leave `sparse` to its default value.\n",
      "  warnings.warn(\n",
      "/home/francis/.local/lib/python3.10/site-packages/sklearn/cluster/_kmeans.py:1412: FutureWarning: The default value of `n_init` will change from 10 to 'auto' in 1.4. Set the value of `n_init` explicitly to suppress the warning\n",
      "  super()._check_params_vs_input(X, default_n_init=10)\n"
     ]
    }
   ],
   "source": [
    "import pandas as pd\n",
    "from sklearn.cluster import KMeans\n",
    "from sklearn.preprocessing import OneHotEncoder\n",
    "\n",
    "# Sample data with categorical variables\n",
    "data = pd.DataFrame({\n",
    "    'Color': ['Red', 'Blue', 'Green', 'Red', 'Blue'],\n",
    "    'Size': ['Small', 'Large', 'Medium', 'Small', 'Large']\n",
    "})\n",
    "\n",
    "# One-hot encode categorical variables\n",
    "encoder = OneHotEncoder(sparse=False)\n",
    "encoded_data = encoder.fit_transform(data[['Color', 'Size']])\n",
    "\n",
    "# Perform K-means clustering\n",
    "kmeans = KMeans(n_clusters=2, random_state=0)\n",
    "clusters = kmeans.fit_predict(encoded_data)\n",
    "\n",
    "# Add cluster labels to the original data\n",
    "data['Cluster'] = clusters\n",
    "\n",
    "print(data)\n"
   ]
  },
  {
   "cell_type": "code",
   "execution_count": 2,
   "metadata": {},
   "outputs": [
    {
     "data": {
      "text/html": [
       "<div>\n",
       "<style scoped>\n",
       "    .dataframe tbody tr th:only-of-type {\n",
       "        vertical-align: middle;\n",
       "    }\n",
       "\n",
       "    .dataframe tbody tr th {\n",
       "        vertical-align: top;\n",
       "    }\n",
       "\n",
       "    .dataframe thead th {\n",
       "        text-align: right;\n",
       "    }\n",
       "</style>\n",
       "<table border=\"1\" class=\"dataframe\">\n",
       "  <thead>\n",
       "    <tr style=\"text-align: right;\">\n",
       "      <th></th>\n",
       "      <th>Cluster</th>\n",
       "    </tr>\n",
       "  </thead>\n",
       "  <tbody>\n",
       "    <tr>\n",
       "      <th>count</th>\n",
       "      <td>5.000000</td>\n",
       "    </tr>\n",
       "    <tr>\n",
       "      <th>mean</th>\n",
       "      <td>0.400000</td>\n",
       "    </tr>\n",
       "    <tr>\n",
       "      <th>std</th>\n",
       "      <td>0.547723</td>\n",
       "    </tr>\n",
       "    <tr>\n",
       "      <th>min</th>\n",
       "      <td>0.000000</td>\n",
       "    </tr>\n",
       "    <tr>\n",
       "      <th>25%</th>\n",
       "      <td>0.000000</td>\n",
       "    </tr>\n",
       "    <tr>\n",
       "      <th>50%</th>\n",
       "      <td>0.000000</td>\n",
       "    </tr>\n",
       "    <tr>\n",
       "      <th>75%</th>\n",
       "      <td>1.000000</td>\n",
       "    </tr>\n",
       "    <tr>\n",
       "      <th>max</th>\n",
       "      <td>1.000000</td>\n",
       "    </tr>\n",
       "  </tbody>\n",
       "</table>\n",
       "</div>"
      ],
      "text/plain": [
       "        Cluster\n",
       "count  5.000000\n",
       "mean   0.400000\n",
       "std    0.547723\n",
       "min    0.000000\n",
       "25%    0.000000\n",
       "50%    0.000000\n",
       "75%    1.000000\n",
       "max    1.000000"
      ]
     },
     "execution_count": 2,
     "metadata": {},
     "output_type": "execute_result"
    }
   ],
   "source": [
    "data.describe()"
   ]
  },
  {
   "cell_type": "code",
   "execution_count": 16,
   "metadata": {},
   "outputs": [
    {
     "name": "stdout",
     "output_type": "stream",
     "text": [
      "Initialization method and algorithm are deterministic. Setting n_init to 1.\n",
      "Init: initializing centroids\n",
      "Init: initializing clusters\n",
      "Starting iterations...\n",
      "Run: 1, iteration: 1/20, moves: 441, ncost: 1139.243311715272\n",
      "Run: 1, iteration: 2/20, moves: 13, ncost: 1138.7626105402794\n",
      "Run: 1, iteration: 3/20, moves: 2, ncost: 1138.6759697346904\n",
      "Run: 1, iteration: 4/20, moves: 0, ncost: 1138.6759697346904\n",
      "Init: initializing centroids\n",
      "Init: initializing clusters\n",
      "Init: initializing centroids\n",
      "Init: initializing clusters\n",
      "Starting iterations...\n",
      "Run: 2, iteration: 1/20, moves: 430, ncost: 1099.9431151026743\n",
      "Run: 2, iteration: 2/20, moves: 20, ncost: 1031.087109713857\n",
      "Run: 2, iteration: 3/20, moves: 8, ncost: 945.6733955205221\n",
      "Run: 2, iteration: 4/20, moves: 3, ncost: 913.7965610139067\n",
      "Run: 2, iteration: 5/20, moves: 0, ncost: 913.7965610139067\n",
      "Init: initializing centroids\n",
      "Init: initializing clusters\n",
      "Starting iterations...\n",
      "Run: 3, iteration: 1/20, moves: 5, ncost: 945.0360914624088\n",
      "Run: 3, iteration: 2/20, moves: 1, ncost: 912.8208884456088\n",
      "Run: 3, iteration: 3/20, moves: 0, ncost: 912.8208884456088\n",
      "Init: initializing centroids\n",
      "Init: initializing clusters\n",
      "Starting iterations...\n",
      "Run: 4, iteration: 1/20, moves: 458, ncost: 1107.639423007372\n",
      "Run: 4, iteration: 2/20, moves: 32, ncost: 1104.9105406995886\n",
      "Run: 4, iteration: 3/20, moves: 5, ncost: 1104.9105406995886\n",
      "Init: initializing centroids\n",
      "Init: initializing clusters\n",
      "Starting iterations...\n",
      "Run: 5, iteration: 1/20, moves: 46, ncost: 999.3677801662698\n",
      "Run: 5, iteration: 2/20, moves: 3, ncost: 949.6548924961392\n",
      "Run: 5, iteration: 3/20, moves: 1, ncost: 918.0377165526227\n",
      "Run: 5, iteration: 4/20, moves: 1, ncost: 918.0298084331259\n",
      "Run: 5, iteration: 5/20, moves: 0, ncost: 918.0298084331259\n",
      "Init: initializing centroids\n",
      "Init: initializing clusters\n",
      "Starting iterations...\n",
      "Run: 6, iteration: 1/20, moves: 473, ncost: 1114.0619567474666\n",
      "Run: 6, iteration: 2/20, moves: 46, ncost: 1113.6557943587884\n",
      "Run: 6, iteration: 3/20, moves: 0, ncost: 1113.6557943587884\n",
      "Init: initializing centroids\n",
      "Init: initializing clusters\n",
      "Starting iterations...\n",
      "Run: 7, iteration: 1/20, moves: 312, ncost: 962.8378003689827\n",
      "Run: 7, iteration: 2/20, moves: 17, ncost: 915.590972548676\n",
      "Run: 7, iteration: 3/20, moves: 1, ncost: 884.1794327335574\n",
      "Run: 7, iteration: 4/20, moves: 0, ncost: 884.1794327335574\n",
      "Init: initializing centroids\n",
      "Init: initializing clusters\n",
      "Starting iterations...\n",
      "Run: 8, iteration: 1/20, moves: 416, ncost: 1128.135276122092\n",
      "Run: 8, iteration: 2/20, moves: 364, ncost: 1095.0053909600178\n",
      "Run: 8, iteration: 3/20, moves: 229, ncost: 1003.0431269912693\n",
      "Run: 8, iteration: 4/20, moves: 34, ncost: 915.590972548676\n",
      "Run: 8, iteration: 5/20, moves: 1, ncost: 884.1794327335574\n",
      "Run: 8, iteration: 6/20, moves: 0, ncost: 884.1794327335574\n",
      "Init: initializing centroids\n",
      "Init: initializing clusters\n",
      "Starting iterations...\n",
      "Run: 9, iteration: 1/20, moves: 306, ncost: 1132.4138881132792\n",
      "Run: 9, iteration: 2/20, moves: 42, ncost: 1132.4138881132792\n",
      "Init: initializing centroids\n",
      "Init: initializing clusters\n",
      "Starting iterations...\n",
      "Run: 10, iteration: 1/20, moves: 416, ncost: 1128.135276122092\n",
      "Run: 10, iteration: 2/20, moves: 364, ncost: 1095.0053909600178\n",
      "Run: 10, iteration: 3/20, moves: 229, ncost: 1003.0431269912693\n",
      "Run: 10, iteration: 4/20, moves: 34, ncost: 915.590972548676\n",
      "Run: 10, iteration: 5/20, moves: 1, ncost: 884.1794327335574\n",
      "Run: 10, iteration: 6/20, moves: 0, ncost: 884.1794327335574\n",
      "Best run was number 7\n"
     ]
    },
    {
     "name": "stderr",
     "output_type": "stream",
     "text": [
      "No artists with labels found to put in legend.  Note that artists whose label start with an underscore are ignored when legend() is called with no argument.\n"
     ]
    },
    {
     "data": {
      "image/png": "[encoded data removed]",
      "text/plain": [
       "<Figure size 640x480 with 1 Axes>"
      ]
     },
     "metadata": {},
     "output_type": "display_data"
    }
   ],
   "source": [
    "import numpy as np\n",
    "import pandas as pd\n",
    "import matplotlib.pyplot as plt\n",
    "\n",
    "from kmodes.kprototypes import KPrototypes\n",
    "\n",
    "marketing_df = pd.read_csv('dataset.csv')\n",
    "\n",
    "# Drop a single column\n",
    "marketing_df = marketing_df.drop('ID', axis='columns')\n",
    "\n",
    "marketing_df['QUANTITY'].fillna(1, inplace=True)  # Fill missing values with 0\n",
    "\n",
    "mark_array = marketing_df.values \n",
    "\n",
    "kproto = KPrototypes(n_clusters=3, verbose=2, max_iter=20)\n",
    "clusters = kproto.fit_predict(mark_array, categorical = [0, 1, 2, 4, 5])\n",
    "\n",
    "cluster_dict = []\n",
    "for c in clusters:\n",
    "    cluster_dict.append(c)\n",
    "\n",
    "marketing_df['cluster'] = cluster_dict\n",
    "\n",
    "marketing_df[marketing_df['cluster']== 0].head(10)\n",
    "\n",
    "# plt.xlim(0, 150)\n",
    "# plt.ylim(0, 25)\n",
    "\n",
    "plt.scatter(marketing_df['ITEM'], marketing_df['BRAND'], c=marketing_df['cluster'], cmap='viridis')\n",
    "plt.xlabel('ITEM')\n",
    "plt.ylabel('BRAND')\n",
    "plt.title('Clustering Visualization')\n",
    "plt.legend()\n",
    "# plt.grid(True)\n",
    "plt.show()"
   ]
  },
  {
   "cell_type": "code",
   "execution_count": 12,
   "metadata": {},
   "outputs": [
    {
     "name": "stdout",
     "output_type": "stream",
     "text": [
      "Highest Price: 03/09/2023\n",
      "Lowest Price: 01/03/2023\n"
     ]
    },
    {
     "ename": "ValueError",
     "evalue": "invalid literal for int() with base 10: '03/09/2023'",
     "output_type": "error",
     "traceback": [
      "\u001b[0;31m---------------------------------------------------------------------------\u001b[0m",
      "\u001b[0;31mValueError\u001b[0m                                Traceback (most recent call last)",
      "\u001b[1;32m/home/francis/Desktop/prototype/k-prototype 2.ipynb Cell 2\u001b[0m line \u001b[0;36m1\n\u001b[1;32m      <a href='vscode-notebook-cell:/home/francis/Desktop/prototype/k-prototype%202.ipynb#W1sZmlsZQ%3D%3D?line=6'>7</a>\u001b[0m \u001b[39mprint\u001b[39m(\u001b[39m\"\u001b[39m\u001b[39mLowest Price:\u001b[39m\u001b[39m\"\u001b[39m, lowest_price)\n\u001b[1;32m      <a href='vscode-notebook-cell:/home/francis/Desktop/prototype/k-prototype%202.ipynb#W1sZmlsZQ%3D%3D?line=8'>9</a>\u001b[0m \u001b[39m# Calculate the length from min to max\u001b[39;00m\n\u001b[0;32m---> <a href='vscode-notebook-cell:/home/francis/Desktop/prototype/k-prototype%202.ipynb#W1sZmlsZQ%3D%3D?line=9'>10</a>\u001b[0m price_range_length \u001b[39m=\u001b[39m \u001b[39mint\u001b[39;49m(highest_price) \u001b[39m-\u001b[39m \u001b[39mint\u001b[39m(lowest_price)\n\u001b[1;32m     <a href='vscode-notebook-cell:/home/francis/Desktop/prototype/k-prototype%202.ipynb#W1sZmlsZQ%3D%3D?line=11'>12</a>\u001b[0m \u001b[39m# Print the length\u001b[39;00m\n\u001b[1;32m     <a href='vscode-notebook-cell:/home/francis/Desktop/prototype/k-prototype%202.ipynb#W1sZmlsZQ%3D%3D?line=12'>13</a>\u001b[0m \u001b[39mprint\u001b[39m(\u001b[39m\"\u001b[39m\u001b[39mLength from Min to Max Price:\u001b[39m\u001b[39m\"\u001b[39m, price_range_length)\n",
      "\u001b[0;31mValueError\u001b[0m: invalid literal for int() with base 10: '03/09/2023'"
     ]
    }
   ],
   "source": [
    "# Find the highest and lowest prices\n",
    "highest_price = marketing_df['DATE'].max()\n",
    "lowest_price = marketing_df['DATE'].min()\n",
    "\n",
    "# Print the results\n",
    "print(\"Highest Price:\", highest_price)\n",
    "print(\"Lowest Price:\", lowest_price)\n",
    "\n",
    "# Calculate the length from min to max\n",
    "price_range_length = int(highest_price) - int(lowest_price)\n",
    "\n",
    "# Print the length\n",
    "print(\"Length from Min to Max Price:\", price_range_length)\n"
   ]
  },
  {
   "cell_type": "code",
   "execution_count": 10,
   "metadata": {},
   "outputs": [
    {
     "ename": "TypeError",
     "evalue": "list indices must be integers or slices, not list",
     "output_type": "error",
     "traceback": [
      "\u001b[0;31m---------------------------------------------------------------------------\u001b[0m",
      "\u001b[0;31mTypeError\u001b[0m                                 Traceback (most recent call last)",
      "\u001b[1;32m/home/francis/Desktop/prototype/k-prototype 2.ipynb Cell 3\u001b[0m line \u001b[0;36m1\n\u001b[1;32m      <a href='vscode-notebook-cell:/home/francis/Desktop/prototype/k-prototype%202.ipynb#W2sZmlsZQ%3D%3D?line=8'>9</a>\u001b[0m plt\u001b[39m.\u001b[39mscatter(x, y, c\u001b[39m=\u001b[39m\u001b[39m'\u001b[39m\u001b[39mblue\u001b[39m\u001b[39m'\u001b[39m, marker\u001b[39m=\u001b[39m\u001b[39m'\u001b[39m\u001b[39mo\u001b[39m\u001b[39m'\u001b[39m, label\u001b[39m=\u001b[39m\u001b[39m'\u001b[39m\u001b[39mData Points\u001b[39m\u001b[39m'\u001b[39m)\n\u001b[1;32m     <a href='vscode-notebook-cell:/home/francis/Desktop/prototype/k-prototype%202.ipynb#W2sZmlsZQ%3D%3D?line=10'>11</a>\u001b[0m \u001b[39m# Find the highest and lowest prices\u001b[39;00m\n\u001b[0;32m---> <a href='vscode-notebook-cell:/home/francis/Desktop/prototype/k-prototype%202.ipynb#W2sZmlsZQ%3D%3D?line=11'>12</a>\u001b[0m hx \u001b[39m=\u001b[39m x[x]\u001b[39m.\u001b[39mmax()\n\u001b[1;32m     <a href='vscode-notebook-cell:/home/francis/Desktop/prototype/k-prototype%202.ipynb#W2sZmlsZQ%3D%3D?line=12'>13</a>\u001b[0m lx \u001b[39m=\u001b[39m x[x]\u001b[39m.\u001b[39mmin()\n\u001b[1;32m     <a href='vscode-notebook-cell:/home/francis/Desktop/prototype/k-prototype%202.ipynb#W2sZmlsZQ%3D%3D?line=14'>15</a>\u001b[0m \u001b[39m# Find the highest and lowest prices\u001b[39;00m\n",
      "\u001b[0;31mTypeError\u001b[0m: list indices must be integers or slices, not list"
     ]
    },
    {
     "data": {
      "image/png": "[encoded data removed]",
      "text/plain": [
       "<Figure size 640x480 with 1 Axes>"
      ]
     },
     "metadata": {},
     "output_type": "display_data"
    }
   ],
   "source": [
    "import matplotlib.pyplot as plt\n",
    "import numpy as np\n",
    "\n",
    "# Example data\n",
    "x = [1, 2, 3, 4, 5, 5, 5, 5, 5, 5, 5, 5, 2, 3, 4, 5, 5, 5, 5, 5, 5, 5, 5]\n",
    "y = [10, 12, 8, 15, 20, 5, 5, 5, 4.5, 4,2, 4.8, 2, 3, 4, 5, 5, 5, 5, 5, 5, 5, 5]\n",
    "\n",
    "# Create the scatter plot\n",
    "plt.scatter(x, y, c='blue', marker='o', label='Data Points')\n",
    "\n",
    "# Find the highest and lowest prices\n",
    "hx = x[x].max()\n",
    "lx = x[x].min()\n",
    "\n",
    "# Find the highest and lowest prices\n",
    "hy = marketing_df['y'].may()\n",
    "ly = marketing_df['y'].miy()\n",
    "\n",
    "print(hx)\n",
    "print(lx)\n",
    "\n",
    "# Set x and y-axis limits\n",
    "# plt.xlim(lx, hx)\n",
    "plt.ylim(0, 50)\n",
    "\n",
    "# Customize the plot\n",
    "plt.xlabel('X-axis Label')\n",
    "plt.ylabel('Y-axis Label')\n",
    "plt.title('Scatter Plot Example')\n",
    "plt.legend()\n",
    "plt.grid(True)\n",
    "\n",
    "# Display the plot\n",
    "plt.show()\n"
   ]
  },
  {
   "cell_type": "markdown",
   "metadata": {},
   "source": []
  }
 ],
 "metadata": {
  "kernelspec": {
   "display_name": "Python 3",
   "language": "python",
   "name": "python3"
  },
  "language_info": {
   "codemirror_mode": {
    "name": "ipython",
    "version": 3
   },
   "file_extension": ".py",
   "mimetype": "text/x-python",
   "name": "python",
   "nbconvert_exporter": "python",
   "pygments_lexer": "ipython3",
   "version": "3.10.12"
  },
  "orig_nbformat": 4
 },
 "nbformat": 4,
 "nbformat_minor": 2
}
