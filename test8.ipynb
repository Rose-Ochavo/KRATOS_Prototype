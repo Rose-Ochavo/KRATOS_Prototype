{
 "cells": [
  {
   "cell_type": "code",
   "execution_count": 107,
   "metadata": {},
   "outputs": [
    {
     "name": "stdout",
     "output_type": "stream",
     "text": [
      "   ID TRANSACTION  BRAND          ITEM  QUANTITY    PRICE        DATE\n",
      "0   1          T1  HONDA    PETRON OIL       1.0  ₱225.00  01/03/2023\n",
      "1   2          T1  HONDA   TIRE SYLANT       1.0  ₱120.00  01/03/2023\n",
      "2   3          T1  HONDA          PITO       1.0   ₱60.00  01/03/2023\n",
      "3   4          T1  HONDA     TIRE GOMA       1.0  ₱140.00  01/03/2023\n",
      "4   5          T1  HONDA     TIRE GOMA       1.0  ₱150.00  01/03/2023\n",
      "5   6          T1  HONDA          HORN       1.0  ₱100.00  01/03/2023\n",
      "6   7          T1  HONDA  ALLEN WRENCH       1.0   ₱16.00  01/03/2023\n",
      "7   8          T1  HONDA      JRP SEAT       1.0  ₱300.00  01/03/2023\n",
      "8   9          T1  HONDA     TIRE GOMA       1.0  ₱150.00  01/03/2023\n"
     ]
    }
   ],
   "source": [
    "import numpy as np\n",
    "import pandas as pd\n",
    "from kmodes.kprototypes import KPrototypes\n",
    "import matplotlib.pyplot as plt\n",
    "from sklearn.preprocessing import LabelEncoder, StandardScaler\n",
    "\n",
    "# Create a synthetic mixed data dataset\n",
    "# data = {\n",
    "#     'Category': ['TIRE', 'PETRON OIL', 'TIRE', 'PITO', 'TIRE', 'TIRE', 'HORN', 'ALLEN WRENCH', 'JRP SEAT', 'TIRE'],\n",
    "#     'Numeric1': [225.00, 120.00, 60.00, 140.00, 150.00, 100.00, 16.00, 300.00, 150.00, 100.00], # price\n",
    "#     'Numeric2': [1, 2, 3, 6, 9, 5, 3, 4, 3, 5] #item \n",
    "# }\n",
    "\n",
    "data = pd.read_csv('al.csv')\n",
    "data['QUANTITY'].fillna(1, inplace=True)\n",
    "\n",
    "\n",
    "df = pd.DataFrame(data)\n",
    "\n",
    "print(df)"
   ]
  },
  {
   "cell_type": "code",
   "execution_count": null,
   "metadata": {},
   "outputs": [],
   "source": [
    "import numpy as np\n",
    "import pandas as pd\n",
    "from kmodes.kprototypes import KPrototypes\n",
    "import matplotlib.pyplot as plt\n",
    "from sklearn.preprocessing import LabelEncoder, StandardScaler\n",
    "\n",
    "# Create a synthetic mixed data dataset\n",
    "# data = {\n",
    "#     'Category': ['TIRE', 'PETRON OIL', 'TIRE', 'PITO', 'TIRE', 'TIRE', 'HORN', 'ALLEN WRENCH', 'JRP SEAT', 'TIRE'],\n",
    "#     'Numeric1': [225.00, 120.00, 60.00, 140.00, 150.00, 100.00, 16.00, 300.00, 150.00, 100.00], # price\n",
    "#     'Numeric2': [1, 2, 3, 6, 9, 5, 3, 4, 3, 5] #item \n",
    "# }\n",
    "\n",
    "data = pd.read_csv('al.csv')\n",
    "\n",
    "data['QUANTITY'].fillna(1, inplace=True)\n",
    "\n",
    "df = pd.DataFrame(data)\n",
    "\n",
    "# Encode categorical data\n",
    "label_encoder = LabelEncoder()\n",
    "\n",
    "cat_columns = df[['ID', 'TRANSACTION', 'BRAND', 'ITEM', 'PRICE', 'DATE']]\n",
    "df['Category_encoded'] = label_encoder.fit_transform(cat_columns)\n",
    "\n",
    "# Scale numerical data\n",
    "scaler = StandardScaler()\n",
    "\n",
    "num_columns = df['QUANTITY']\n",
    "df[['Numeric1', 'Numeric2']] = scaler.fit_transform(num_columns)\n",
    "\n",
    "# Define the number of clusters (k)\n",
    "k = 4\n",
    "\n",
    "# Initialize and fit k-Prototypes model\n",
    "kproto = KPrototypes(n_clusters=k, init='Cao', verbose=0)\n",
    "clusters = kproto.fit_predict(df.values, categorical=[0, 1, 2, 3, 5, 6])  # Specify that 'Category_encoded' is categorical\n",
    "\n",
    "# Add cluster labels to the DataFrame\n",
    "df['Cluster'] = clusters\n",
    "\n",
    "# Plot the clusters\n",
    "plt.figure(figsize=(9, 6))\n",
    "for cluster in range(k):\n",
    "    cluster_data = df[df['Cluster'] == cluster]\n",
    "    plt.scatter(\n",
    "        cluster_data['Numeric1'],\n",
    "        cluster_data['Category_encoded'],\n",
    "        label=f'Cluster {cluster + 1}'\n",
    "    )\n",
    "\n",
    "plt.title(f'k-Prototypes Clustering (k={k})')\n",
    "plt.xlabel('Numeric1')\n",
    "plt.ylabel('Numeric2')\n",
    "# plt.legend()\n",
    "plt.grid(True)\n",
    "plt.show()\n"
   ]
  },
  {
   "cell_type": "code",
   "execution_count": null,
   "metadata": {},
   "outputs": [
    {
     "name": "stdout",
     "output_type": "stream",
     "text": [
      "0    5\n",
      "1    3\n",
      "2    5\n",
      "3    4\n",
      "4    5\n",
      "5    5\n",
      "6    1\n",
      "7    0\n",
      "8    2\n",
      "9    5\n",
      "Name: Category_encoded, dtype: int64\n"
     ]
    }
   ],
   "source": [
    "print(df['Category_encoded'])"
   ]
  },
  {
   "cell_type": "code",
   "execution_count": null,
   "metadata": {},
   "outputs": [
    {
     "name": "stdout",
     "output_type": "stream",
     "text": [
      "       Category  Numeric1  Numeric2  Category_encoded  Cluster\n",
      "0          TIRE  1.164818 -1.431447                 5        0\n",
      "1    PETRON OIL -0.210951 -0.969690                 3        2\n",
      "2          TIRE -0.997105 -0.507933                 5        1\n",
      "3          PITO  0.051100  0.877338                 4        1\n",
      "4          TIRE  0.182126  2.262610                 5        1\n",
      "5          TIRE -0.473002  0.415581                 5        1\n",
      "6          HORN -1.573617 -0.507933                 1        2\n",
      "7  ALLEN WRENCH  2.147509 -0.046176                 0        3\n",
      "8      JRP SEAT  0.182126 -0.507933                 2        2\n",
      "9          TIRE -0.473002  0.415581                 5        1\n"
     ]
    }
   ],
   "source": [
    "print(df)"
   ]
  }
 ],
 "metadata": {
  "kernelspec": {
   "display_name": "Python 3",
   "language": "python",
   "name": "python3"
  },
  "language_info": {
   "codemirror_mode": {
    "name": "ipython",
    "version": 3
   },
   "file_extension": ".py",
   "mimetype": "text/x-python",
   "name": "python",
   "nbconvert_exporter": "python",
   "pygments_lexer": "ipython3",
   "version": "3.10.12"
  },
  "orig_nbformat": 4
 },
 "nbformat": 4,
 "nbformat_minor": 2
}
